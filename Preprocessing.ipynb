{
 "cells": [
  {
   "cell_type": "markdown",
   "source": [
    "## Preprocessing"
   ],
   "metadata": {
    "collapsed": false
   },
   "id": "27388e96d303cd76"
  },
  {
   "cell_type": "code",
   "outputs": [
    {
     "name": "stdout",
     "output_type": "stream",
     "text": [
      "300\n"
     ]
    },
    {
     "ename": "TypeError",
     "evalue": "loop of ufunc does not support argument 0 of type NoneType which has no callable rint method",
     "output_type": "error",
     "traceback": [
      "\u001B[1;31m---------------------------------------------------------------------------\u001B[0m",
      "\u001B[1;31mAttributeError\u001B[0m                            Traceback (most recent call last)",
      "\u001B[1;31mAttributeError\u001B[0m: 'NoneType' object has no attribute 'rint'",
      "\nThe above exception was the direct cause of the following exception:\n",
      "\u001B[1;31mTypeError\u001B[0m                                 Traceback (most recent call last)",
      "Cell \u001B[1;32mIn[7], line 42\u001B[0m\n\u001B[0;32m     33\u001B[0m \u001B[38;5;66;03m#print(len(cimg[0][0]))\u001B[39;00m\n\u001B[0;32m     34\u001B[0m \u001B[38;5;66;03m#tifffile.imwrite(\"test_tifff.tiff\", image)\u001B[39;00m\n\u001B[0;32m     35\u001B[0m \u001B[38;5;66;03m#image2 = cv.imread(\"test_tifff.tiff\", cv.IMREAD_GRAYSCALE)\u001B[39;00m\n\u001B[1;32m   (...)\u001B[0m\n\u001B[0;32m     38\u001B[0m \u001B[38;5;66;03m#cv.waitKey(0)\u001B[39;00m\n\u001B[0;32m     39\u001B[0m \u001B[38;5;66;03m#cv.destroyAllWindows()\u001B[39;00m\n\u001B[0;32m     41\u001B[0m circles \u001B[38;5;241m=\u001B[39m cv\u001B[38;5;241m.\u001B[39mHoughCircles(im, cv\u001B[38;5;241m.\u001B[39mHOUGH_GRADIENT_ALT , \u001B[38;5;241m1\u001B[39m, \u001B[38;5;241m20\u001B[39m, param1\u001B[38;5;241m=\u001B[39m\u001B[38;5;241m1\u001B[39m, param2\u001B[38;5;241m=\u001B[39m\u001B[38;5;241m0.9\u001B[39m, minRadius\u001B[38;5;241m=\u001B[39m\u001B[38;5;241m20\u001B[39m, maxRadius\u001B[38;5;241m=\u001B[39m\u001B[38;5;241m100\u001B[39m)\n\u001B[1;32m---> 42\u001B[0m circles \u001B[38;5;241m=\u001B[39m np\u001B[38;5;241m.\u001B[39muint16(\u001B[43mnp\u001B[49m\u001B[38;5;241;43m.\u001B[39;49m\u001B[43maround\u001B[49m\u001B[43m(\u001B[49m\u001B[43mcircles\u001B[49m\u001B[43m)\u001B[49m)\n\u001B[0;32m     43\u001B[0m \u001B[38;5;28;01mfor\u001B[39;00m i \u001B[38;5;129;01min\u001B[39;00m circles[\u001B[38;5;241m0\u001B[39m,:]:\n\u001B[0;32m     44\u001B[0m     \u001B[38;5;66;03m# draw the outer circle\u001B[39;00m\n\u001B[0;32m     45\u001B[0m     cv\u001B[38;5;241m.\u001B[39mcircle(cimg,(i[\u001B[38;5;241m0\u001B[39m],i[\u001B[38;5;241m1\u001B[39m]),i[\u001B[38;5;241m2\u001B[39m],(\u001B[38;5;241m0\u001B[39m,\u001B[38;5;241m255\u001B[39m,\u001B[38;5;241m0\u001B[39m),\u001B[38;5;241m2\u001B[39m)\n",
      "File \u001B[1;32m~\\Desktop\\GPMV\\venv\\Lib\\site-packages\\numpy\\core\\fromnumeric.py:3377\u001B[0m, in \u001B[0;36maround\u001B[1;34m(a, decimals, out)\u001B[0m\n\u001B[0;32m   3363\u001B[0m \u001B[38;5;129m@array_function_dispatch\u001B[39m(_round_dispatcher)\n\u001B[0;32m   3364\u001B[0m \u001B[38;5;28;01mdef\u001B[39;00m \u001B[38;5;21maround\u001B[39m(a, decimals\u001B[38;5;241m=\u001B[39m\u001B[38;5;241m0\u001B[39m, out\u001B[38;5;241m=\u001B[39m\u001B[38;5;28;01mNone\u001B[39;00m):\n\u001B[0;32m   3365\u001B[0m \u001B[38;5;250m    \u001B[39m\u001B[38;5;124;03m\"\"\"\u001B[39;00m\n\u001B[0;32m   3366\u001B[0m \u001B[38;5;124;03m    Round an array to the given number of decimals.\u001B[39;00m\n\u001B[0;32m   3367\u001B[0m \n\u001B[1;32m   (...)\u001B[0m\n\u001B[0;32m   3375\u001B[0m \n\u001B[0;32m   3376\u001B[0m \u001B[38;5;124;03m    \"\"\"\u001B[39;00m\n\u001B[1;32m-> 3377\u001B[0m     \u001B[38;5;28;01mreturn\u001B[39;00m \u001B[43m_wrapfunc\u001B[49m\u001B[43m(\u001B[49m\u001B[43ma\u001B[49m\u001B[43m,\u001B[49m\u001B[43m \u001B[49m\u001B[38;5;124;43m'\u001B[39;49m\u001B[38;5;124;43mround\u001B[39;49m\u001B[38;5;124;43m'\u001B[39;49m\u001B[43m,\u001B[49m\u001B[43m \u001B[49m\u001B[43mdecimals\u001B[49m\u001B[38;5;241;43m=\u001B[39;49m\u001B[43mdecimals\u001B[49m\u001B[43m,\u001B[49m\u001B[43m \u001B[49m\u001B[43mout\u001B[49m\u001B[38;5;241;43m=\u001B[39;49m\u001B[43mout\u001B[49m\u001B[43m)\u001B[49m\n",
      "File \u001B[1;32m~\\Desktop\\GPMV\\venv\\Lib\\site-packages\\numpy\\core\\fromnumeric.py:56\u001B[0m, in \u001B[0;36m_wrapfunc\u001B[1;34m(obj, method, *args, **kwds)\u001B[0m\n\u001B[0;32m     54\u001B[0m bound \u001B[38;5;241m=\u001B[39m \u001B[38;5;28mgetattr\u001B[39m(obj, method, \u001B[38;5;28;01mNone\u001B[39;00m)\n\u001B[0;32m     55\u001B[0m \u001B[38;5;28;01mif\u001B[39;00m bound \u001B[38;5;129;01mis\u001B[39;00m \u001B[38;5;28;01mNone\u001B[39;00m:\n\u001B[1;32m---> 56\u001B[0m     \u001B[38;5;28;01mreturn\u001B[39;00m \u001B[43m_wrapit\u001B[49m\u001B[43m(\u001B[49m\u001B[43mobj\u001B[49m\u001B[43m,\u001B[49m\u001B[43m \u001B[49m\u001B[43mmethod\u001B[49m\u001B[43m,\u001B[49m\u001B[43m \u001B[49m\u001B[38;5;241;43m*\u001B[39;49m\u001B[43margs\u001B[49m\u001B[43m,\u001B[49m\u001B[43m \u001B[49m\u001B[38;5;241;43m*\u001B[39;49m\u001B[38;5;241;43m*\u001B[39;49m\u001B[43mkwds\u001B[49m\u001B[43m)\u001B[49m\n\u001B[0;32m     58\u001B[0m \u001B[38;5;28;01mtry\u001B[39;00m:\n\u001B[0;32m     59\u001B[0m     \u001B[38;5;28;01mreturn\u001B[39;00m bound(\u001B[38;5;241m*\u001B[39margs, \u001B[38;5;241m*\u001B[39m\u001B[38;5;241m*\u001B[39mkwds)\n",
      "File \u001B[1;32m~\\Desktop\\GPMV\\venv\\Lib\\site-packages\\numpy\\core\\fromnumeric.py:45\u001B[0m, in \u001B[0;36m_wrapit\u001B[1;34m(obj, method, *args, **kwds)\u001B[0m\n\u001B[0;32m     43\u001B[0m \u001B[38;5;28;01mexcept\u001B[39;00m \u001B[38;5;167;01mAttributeError\u001B[39;00m:\n\u001B[0;32m     44\u001B[0m     wrap \u001B[38;5;241m=\u001B[39m \u001B[38;5;28;01mNone\u001B[39;00m\n\u001B[1;32m---> 45\u001B[0m result \u001B[38;5;241m=\u001B[39m \u001B[38;5;28;43mgetattr\u001B[39;49m\u001B[43m(\u001B[49m\u001B[43masarray\u001B[49m\u001B[43m(\u001B[49m\u001B[43mobj\u001B[49m\u001B[43m)\u001B[49m\u001B[43m,\u001B[49m\u001B[43m \u001B[49m\u001B[43mmethod\u001B[49m\u001B[43m)\u001B[49m\u001B[43m(\u001B[49m\u001B[38;5;241;43m*\u001B[39;49m\u001B[43margs\u001B[49m\u001B[43m,\u001B[49m\u001B[43m \u001B[49m\u001B[38;5;241;43m*\u001B[39;49m\u001B[38;5;241;43m*\u001B[39;49m\u001B[43mkwds\u001B[49m\u001B[43m)\u001B[49m\n\u001B[0;32m     46\u001B[0m \u001B[38;5;28;01mif\u001B[39;00m wrap:\n\u001B[0;32m     47\u001B[0m     \u001B[38;5;28;01mif\u001B[39;00m \u001B[38;5;129;01mnot\u001B[39;00m \u001B[38;5;28misinstance\u001B[39m(result, mu\u001B[38;5;241m.\u001B[39mndarray):\n",
      "\u001B[1;31mTypeError\u001B[0m: loop of ufunc does not support argument 0 of type NoneType which has no callable rint method"
     ]
    }
   ],
   "source": [
    "\n",
    "from cv2 import Mat\n",
    "import os\n",
    "import numpy as np\n",
    "import tifffile\n",
    "import matplotlib.pyplot as plt\n",
    "from PIL import Image\n",
    "import cv2 as cv\n",
    "\n",
    "# input_folder = \"D:/GPMV Project/singleTiffs\"\n",
    "\n",
    "# Process the input TIFF file and save the edge-detected images\n",
    "input_file = 'Caski17.tif'\n",
    "success, images = cv.imreadmulti('Caski17.tif', flags=cv.IMREAD_UNCHANGED)\n",
    "assert success, \"file could not be read, check with os.path.exists()\"\n",
    "\n",
    "print(len(images))\n",
    "for image in images:\n",
    "    im = np.array(Image.fromarray(image, mode=\"LA\").convert('L'))\n",
    "\n",
    "    #print(image[0][0] & 0b0000000011111111)\n",
    "    #a = image[:,:,3]\n",
    "\n",
    "    #use that as a mask for bitwise compositing:\n",
    "    #im2 = cv.bitwise_and(image, image, mask=a)\n",
    "\n",
    "    #im2 = cv.cvtColor(im2,cv.COLOR_BGRA2GRAY)\n",
    "    \n",
    "    #img_normalized = cv.normalize(image, None, alpha=0, beta=255, norm_type=cv.NORM_MINMAX, dtype=cv.CV_8U)\n",
    "    \n",
    "    #img_gray = cv.cvtColor(img, cv.COLOR_R)\n",
    "    #img = cv.medianBlur(im,5)\n",
    "    cimg = cv.cvtColor(im,cv.COLOR_GRAY2BGR)\n",
    "    #print(len(cimg[0][0]))\n",
    "    #tifffile.imwrite(\"test_tifff.tiff\", image)\n",
    "    #image2 = cv.imread(\"test_tifff.tiff\", cv.IMREAD_GRAYSCALE)\n",
    "    #tifffile.imwrite(\"test_tifff2.tiff\", image2)\n",
    "    #cv.imshow('detected circles',cimg)\n",
    "    #cv.waitKey(0)\n",
    "    #cv.destroyAllWindows()\n",
    "    \n",
    "    circles = cv.HoughCircles(im, cv.HOUGH_GRADIENT_ALT , 1, 20, param1=1, param2=0.9, minRadius=20, maxRadius=100)\n",
    "    circles = np.uint16(np.around(circles))\n",
    "    for i in circles[0,:]:\n",
    "        # draw the outer circle\n",
    "        cv.circle(cimg,(i[0],i[1]),i[2],(0,255,0),2)\n",
    "        # draw the center of the circle\n",
    "        cv.circle(cimg,(i[0],i[1]),2,(0,0,255),3)\n",
    "    \n",
    "         \n",
    "    cv.imshow('detected circles',cimg)\n",
    "    cv.waitKey(0)\n",
    "    cv.destroyAllWindows()\n",
    "    break\n",
    "#img = cv.medianBlur(img,5)\n",
    "#cimg = cv.cvtColor(img,cv.COLOR_GRAY2BGR)\n",
    "#for index in range(imageAll.shape[0]):\n",
    "#    image = np.array(imageAll[index, :, :], dtype=np.uint16)\n",
    "#    image = Image.fromarray(image)\n",
    "    #image.save(os.path.join(input_folder, str(index) + \".tif\"))\n",
    "    #input_path = os.path.join(input_folder, str(index) + \".tif\")\n"
   ],
   "metadata": {
    "collapsed": false,
    "ExecuteTime": {
     "end_time": "2024-03-23T17:04:00.833806Z",
     "start_time": "2024-03-23T17:04:00.171091Z"
    }
   },
   "id": "4ff649b1f38b5577",
   "execution_count": 7
  },
  {
   "cell_type": "code",
   "outputs": [],
   "source": [],
   "metadata": {
    "collapsed": false
   },
   "id": "2bfdfe994923ad59"
  }
 ],
 "metadata": {
  "kernelspec": {
   "display_name": "Python 3",
   "language": "python",
   "name": "python3"
  },
  "language_info": {
   "codemirror_mode": {
    "name": "ipython",
    "version": 2
   },
   "file_extension": ".py",
   "mimetype": "text/x-python",
   "name": "python",
   "nbconvert_exporter": "python",
   "pygments_lexer": "ipython2",
   "version": "2.7.6"
  }
 },
 "nbformat": 4,
 "nbformat_minor": 5
}
