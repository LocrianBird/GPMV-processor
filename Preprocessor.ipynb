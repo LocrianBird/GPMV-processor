{
 "cells": [
  {
   "cell_type": "markdown",
   "source": [
    "# Preprocessor\n",
    "   1. Convert TIFF video to individual TIFF images\n",
    "        > Clearing the folder and index+1 to have the range 1-300 added\n",
    "   2. Implement OpenCV for circle detection \n",
    "   3. Identify the Largest circle detected\n",
    "   4. Establish a bounding rectangular area around the circle\n",
    "   5. Perform cropping based on the bounding rectangular\n",
    "   6. Save processed data"
   ],
   "metadata": {
    "collapsed": false
   },
   "id": "cf9cc4243a2b9198"
  },
  {
   "cell_type": "markdown",
   "source": [
    "#### 1. Converting TIFF"
   ],
   "metadata": {
    "collapsed": false
   },
   "id": "ba2e75fb7c05fdcd"
  },
  {
   "cell_type": "code",
   "outputs": [
    {
     "name": "stderr",
     "output_type": "stream",
     "text": [
      "<tifffile.TiffTag 5033 @530880> coercing invalid ASCII to bytes\n"
     ]
    }
   ],
   "source": [
    "import os\n",
    "import numpy as np\n",
    "import tifffile\n",
    "from PIL import Image\n",
    "\n",
    "# Read the image\n",
    "imageAll = tifffile.imread('CaSki17.tif')\n",
    "lengthOfStack = imageAll.shape[0]  # Get the length of the stack\n",
    "dirToStore = \"C:/Users/mkana/Desktop/GPMV/GPMV_new/SingleTiffs/\"\n",
    "\n",
    "for file in os.listdir(dirToStore):\n",
    "    os.remove(os.path.join(dirToStore, file))\n",
    "\n",
    "for index in range(lengthOfStack):  # Loop through each frame\n",
    "    image = np.array(imageAll[index, :, :], dtype=np.uint16)\n",
    "    image = Image.fromarray(image) # Convert to PIL Image\n",
    "    image.save(f\"{dirToStore}{index+1}.tif\")"
   ],
   "metadata": {
    "collapsed": false,
    "ExecuteTime": {
     "end_time": "2024-03-26T18:58:00.292244Z",
     "start_time": "2024-03-26T18:57:59.737997Z"
    }
   },
   "id": "7f3bc7ff90b184ad",
   "execution_count": 14
  },
  {
   "cell_type": "markdown",
   "source": [
    "#### 2. Implementing OpenCV "
   ],
   "metadata": {
    "collapsed": false
   },
   "id": "116a784001ed0401"
  },
  {
   "cell_type": "code",
   "outputs": [
    {
     "ename": "ModuleNotFoundError",
     "evalue": "No module named 'skimage'",
     "output_type": "error",
     "traceback": [
      "\u001B[1;31m---------------------------------------------------------------------------\u001B[0m",
      "\u001B[1;31mModuleNotFoundError\u001B[0m                       Traceback (most recent call last)",
      "Cell \u001B[1;32mIn[1], line 4\u001B[0m\n\u001B[0;32m      2\u001B[0m \u001B[38;5;28;01mimport\u001B[39;00m \u001B[38;5;21;01mmatplotlib\u001B[39;00m\u001B[38;5;21;01m.\u001B[39;00m\u001B[38;5;21;01mpyplot\u001B[39;00m \u001B[38;5;28;01mas\u001B[39;00m \u001B[38;5;21;01mplt\u001B[39;00m\n\u001B[0;32m      3\u001B[0m \u001B[38;5;28;01mimport\u001B[39;00m \u001B[38;5;21;01mos\u001B[39;00m\n\u001B[1;32m----> 4\u001B[0m \u001B[38;5;28;01mfrom\u001B[39;00m \u001B[38;5;21;01mskimage\u001B[39;00m \u001B[38;5;28;01mimport\u001B[39;00m io, color, filters, measure\n\u001B[0;32m      6\u001B[0m image_path \u001B[38;5;241m=\u001B[39m \u001B[38;5;124m'\u001B[39m\u001B[38;5;124mC:/Users/mkana/Desktop/GPMV/GPMV_new/SingleTiffs/1.tif\u001B[39m\u001B[38;5;124m'\u001B[39m\n\u001B[0;32m      8\u001B[0m \u001B[38;5;28;01mtry\u001B[39;00m:\n",
      "\u001B[1;31mModuleNotFoundError\u001B[0m: No module named 'skimage'"
     ]
    }
   ],
   "source": [
    "import numpy as np\n",
    "import matplotlib.pyplot as plt\n",
    "import os\n",
    "from skimage import io, color, filters, measure\n",
    "\n",
    "image_path = 'C:/Users/mkana/Desktop/GPMV/GPMV_new/SingleTiffs/1.tif'\n",
    "\n",
    "try:\n",
    "    image = io.imread(image_path)\n",
    "except FileNotFoundError:\n",
    "    print(\"Error: Unable to load the image.\")\n",
    "    exit()\n",
    "\n",
    "# Convert image to grayscale\n",
    "if image.ndim > 2:\n",
    "    image_gray = color.rgb2gray(image)\n",
    "else:\n",
    "    image_gray = image\n",
    "\n",
    "# Apply median blur for noise reduction (can be also Gaussian blur)\n",
    "blurred = filters.median(image_gray)\n",
    "\n",
    "# Threshold the image to obtain binary image\n",
    "thresholded = blurred > filters.threshold_otsu(blurred)\n",
    "\n",
    "# Label connected components\n",
    "label_image = measure.label(thresholded)\n",
    "\n",
    "# Create a black image for drawing contours\n",
    "contour_image = np.zeros_like(image, dtype=np.uint8)\n",
    "\n",
    "# Iterate through labeled regions\n",
    "for region in measure.regionprops(label_image):\n",
    "    # Get the properties of the region\n",
    "    min_row, min_col, max_row, max_col = region.bbox\n",
    "    centroid_row, centroid_col = region.centroid\n",
    "    radius = int(max((max_row - min_row), (max_col - min_col)) / 2)\n",
    "\n",
    "    # Draw the circle on the contour image\n",
    "    cv2.circle(contour_image, (int(centroid_col), int(centroid_row)), radius, (255, 255, 255), 2)\n",
    "\n",
    "# Save the contour image\n",
    "contour_image_path = os.path.splitext(image_path)[0] + '_contour.tif'\n",
    "io.imsave(contour_image_path, contour_image)\n",
    "\n",
    "# Display the contour image\n",
    "plt.imshow(contour_image)\n",
    "plt.title('Detected Circular Structures')\n",
    "plt.axis('off')\n",
    "plt.show()\n"
   ],
   "metadata": {
    "collapsed": false,
    "ExecuteTime": {
     "end_time": "2024-03-26T20:25:29.339534Z",
     "start_time": "2024-03-26T20:25:28.711924Z"
    }
   },
   "id": "b5ee77f6d4b4285a",
   "execution_count": 1
  },
  {
   "cell_type": "code",
   "outputs": [],
   "source": [],
   "metadata": {
    "collapsed": false
   },
   "id": "4c12deb8f12a19b8"
  }
 ],
 "metadata": {
  "kernelspec": {
   "display_name": "Python 3",
   "language": "python",
   "name": "python3"
  },
  "language_info": {
   "codemirror_mode": {
    "name": "ipython",
    "version": 2
   },
   "file_extension": ".py",
   "mimetype": "text/x-python",
   "name": "python",
   "nbconvert_exporter": "python",
   "pygments_lexer": "ipython2",
   "version": "2.7.6"
  }
 },
 "nbformat": 4,
 "nbformat_minor": 5
}
